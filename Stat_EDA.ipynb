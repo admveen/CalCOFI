{
 "metadata": {
  "language_info": {
   "codemirror_mode": {
    "name": "ipython",
    "version": 3
   },
   "file_extension": ".py",
   "mimetype": "text/x-python",
   "name": "python",
   "nbconvert_exporter": "python",
   "pygments_lexer": "ipython3",
   "version": "3.8.5"
  },
  "orig_nbformat": 2,
  "kernelspec": {
   "name": "python385jvsc74a57bd0c973c0f3b75d278258c98f27af521ba2a5a3f33703eb568891dedf9795a850f8",
   "display_name": "Python 3.8.5 64-bit ('base': conda)"
  }
 },
 "nbformat": 4,
 "nbformat_minor": 2,
 "cells": [
  {
   "cell_type": "code",
   "execution_count": null,
   "metadata": {},
   "outputs": [],
   "source": [
    "import numpy as np\n",
    "import pandas as pd\n",
    "import seaborn as sns\n",
    "import matplotlib.pyplot as plt\n"
   ]
  },
  {
   "cell_type": "code",
   "execution_count": null,
   "metadata": {},
   "outputs": [],
   "source": [
    "calcofi_data = pd.read_csv('final_data.csv')\n",
    "calcofi_data.head(2)"
   ]
  },
  {
   "cell_type": "code",
   "execution_count": null,
   "metadata": {},
   "outputs": [],
   "source": [
    "calcofi_data.columns"
   ]
  },
  {
   "cell_type": "code",
   "execution_count": null,
   "metadata": {},
   "outputs": [],
   "source": [
    "calcofi_data.drop(columns = ['Unnamed: 0', 'Unnamed: 0.1'], inplace = True)\n",
    "calcofi_data.head(2)"
   ]
  },
  {
   "cell_type": "code",
   "execution_count": null,
   "metadata": {},
   "outputs": [],
   "source": [
    "calcofi_data.tail(2)"
   ]
  },
  {
   "cell_type": "code",
   "execution_count": null,
   "metadata": {},
   "outputs": [],
   "source": [
    "calcofi_data.shape"
   ]
  },
  {
   "cell_type": "code",
   "execution_count": null,
   "metadata": {},
   "outputs": [],
   "source": [
    "calcofi_data = calcofi_data.loc[(calcofi_data['O2ml_L'] >= 0) & (calcofi_data['PO4uM'] >= 0) & (calcofi_data['NO3uM'] >= 0)]\n"
   ]
  },
  {
   "cell_type": "code",
   "execution_count": null,
   "metadata": {},
   "outputs": [],
   "source": []
  },
  {
   "cell_type": "code",
   "execution_count": null,
   "metadata": {},
   "outputs": [],
   "source": [
    "len(calcofi_data.Sta_ID.unique())"
   ]
  },
  {
   "source": [
    "#### OK, so we have a pretty comprehensive dataset in front of us that spans 43 years with data taken at ~1000 different geographical sampling stations along the California coast.\n",
    "\n",
    " During EDA for imputation, we noticed that there was some evidence for depth segmentation in the data. Particularly, we noticed that there was segmentation of dissolved oxygen and mineral levels in the water column. We also noticed that there were regions in the water column where the dissolved oxygen content was quite low -- in some cases, actually hitting zero. From the standpoint of supporting fish populations, this seems like it would be something of concern. \n",
    "\n",
    " A few questions are:\n",
    "\n",
    " 1. Are there other factors within the dataset that play roles in creating these depleted oxygen (hypoxic) regions (I'm thinking about coorelations here)?\n",
    " 2. Are there different classes of hypoxic regions? By this we means, ones that occur nearer to/ further off the coast, at different ranges of depths, etc?\n",
    " 3. Of particular concern for coastal fisheries would be low oxygen levels in shallow waters. Can we identify some of these and the conditions which create them? \n",
    " 4. This is a depth column. Things that happen at the top near the surface are likely to affect things that happen deeper in the column. Is this hypothesis backed in any way by the data? One more precise set of questions is: how do surface temperature, salinity, chlorophyll, and phaeopigment concentrations at the surface affect oxygenation?\n",
    " 5. We have time data. How persistent are low oxygen regions? Are they like shocks, cyclical, or are they persistent zones?\n",
    "\n",
    " These are obviously a lot of questions. We probably won't answer all of these in the notebook. But we can certainly use the data to start addressing them. \n",
    "\n"
   ],
   "cell_type": "markdown",
   "metadata": {}
  },
  {
   "source": [
    "## Variable Correlation / Visualization"
   ],
   "cell_type": "markdown",
   "metadata": {}
  },
  {
   "cell_type": "code",
   "execution_count": null,
   "metadata": {},
   "outputs": [],
   "source": [
    "sns.set_style(\"ticks\")\n",
    "sns.set_context(\"talk\")\n"
   ]
  },
  {
   "source": [
    "Linear regression plot of Oxygen on both Phosphates and Nitrates."
   ],
   "cell_type": "markdown",
   "metadata": {}
  },
  {
   "cell_type": "code",
   "execution_count": null,
   "metadata": {},
   "outputs": [],
   "source": [
    "fig, axes = plt.subplots(2,1, figsize =(6,8))\n",
    "sns.regplot(ax = axes[0],x = 'PO4uM', y ='O2ml_L', data = calcofi_data.sample(50000), scatter_kws={\"s\":10}, line_kws={'color': 'red'} )\n",
    "axes[0].set_xlabel('$PO_4$ ($\\mu $mol/L)')\n",
    "axes[0].set_ylabel(' $O_2$ (mL/L)')\n",
    "sns.regplot(ax = axes[1], x = 'NO3uM', y ='O2ml_L', data = calcofi_data.sample(50000), scatter_kws={\"s\":10}, line_kws={'color': 'red'} )\n",
    "axes[1].set_xlabel('$NO_3$ ($\\mu $mol/L)')\n",
    "axes[1].set_ylabel('$O_2$ (mL/L)')\n",
    "plt.tight_layout()\n",
    "plt.savefig('O2vsnutrients.png')\n",
    "plt.show()\n"
   ]
  },
  {
   "source": [
    "Yea, until saturation, its pretty linear. This is an interesting point. Now let's take a look at Phosphates vs Depth and Nitrates vs Depth. We'll have O2 be our color bar."
   ],
   "cell_type": "markdown",
   "metadata": {}
  },
  {
   "cell_type": "code",
   "execution_count": null,
   "metadata": {},
   "outputs": [],
   "source": [
    "calcofi_data_r = calcofi_data[calcofi_data['Depthm']<=4000].sample(50000)\n",
    "x = calcofi_data_r['Depthm']\n",
    "y = calcofi_data_r['PO4uM'] \n",
    "\n",
    "plt.scatter(x, y, c = calcofi_data_r['O2ml_L'], cmap = 'viridis' )\n",
    "plt.ylabel('$PO_4$ ($\\mu$ mol/L)')\n",
    "plt.xlabel(' Depth (m)')\n",
    "plt.clim(0, 8)\n",
    "plt.colorbar(label = '$O_2$ (mL/L)')\n",
    "plt.tight_layout()\n",
    "plt.minorticks_on()\n",
    "plt.savefig('PO4withdepth.png')\n",
    "plt.show()"
   ]
  },
  {
   "cell_type": "code",
   "execution_count": null,
   "metadata": {},
   "outputs": [],
   "source": [
    "calcofi_data_r = calcofi_data[calcofi_data['Depthm']<=4000].sample(50000)\n",
    "x = calcofi_data_r['Depthm']\n",
    "y = calcofi_data_r['NO3uM'] \n",
    "\n",
    "plt.scatter(x, y, c = calcofi_data_r['O2ml_L'], cmap = 'viridis' )\n",
    "plt.ylabel('$NO_3$ ($\\mu$ mol/L)')\n",
    "plt.xlabel(' Depth (m)')\n",
    "plt.clim(0, 8)\n",
    "plt.colorbar(label = '$O_2$ (mL/L)')\n",
    "plt.tight_layout()\n",
    "plt.minorticks_on()\n",
    "plt.savefig('NO3withdepth.png')\n",
    "plt.show()"
   ]
  },
  {
   "cell_type": "code",
   "execution_count": null,
   "metadata": {},
   "outputs": [],
   "source": [
    "fig, axes = plt.subplots(2,1, figsize =(6,8))\n",
    "sns.scatterplot(ax = axes[0],x = 'T_degC', y ='O2ml_L', data = calcofi_data.sample(50000), color = 'g' )\n",
    "axes[0].set_xlabel('T (celsius')\n",
    "axes[0].set_ylabel(' $O_2$ (mL/L)')\n",
    "\n",
    "sns.scatterplot(ax = axes[1], x = 'STheta', y ='O2ml_L', data = calcofi_data.sample(50000), color = 'orange' )\n",
    "axes[1].set_xlabel('$\\sigma_\\Theta$ ($kg/m^3$)')\n",
    "axes[1].set_ylabel(' $O_2$ (mL/L)')\n",
    "plt.tight_layout()\n",
    "plt.savefig('O2vsTStheta.png')\n",
    "\n",
    "plt.show()"
   ]
  },
  {
   "cell_type": "code",
   "execution_count": null,
   "metadata": {},
   "outputs": [],
   "source": [
    "calcofi_data_r = calcofi_data[calcofi_data['Depthm']<=4000].sample(50000)\n",
    "x = calcofi_data_r['T_degC']\n",
    "y = calcofi_data_r['O2ml_L'] \n",
    "\n",
    "plt.scatter(x, y, c = calcofi_data_r.Depthm, cmap = 'viridis' )\n",
    "plt.xlabel('T (Celsius)')\n",
    "plt.ylabel(' $O_2$ (mL/L)')\n",
    "plt.clim(0, 4000)\n",
    "plt.colorbar(label = 'Depth [m]')\n",
    "plt.tight_layout()\n",
    "plt.savefig('OvsTwithdepth.png')\n",
    "plt.show()"
   ]
  },
  {
   "source": [
    "Zoom in out to middle depth to see the color scale more clearly.\n"
   ],
   "cell_type": "markdown",
   "metadata": {}
  },
  {
   "cell_type": "code",
   "execution_count": null,
   "metadata": {},
   "outputs": [],
   "source": [
    "calcofi_data_r = calcofi_data[calcofi_data['Depthm']<800].sample(50000)\n",
    "x = calcofi_data_r['T_degC']\n",
    "y = calcofi_data_r['O2ml_L'] \n",
    "\n",
    "plt.scatter(x, y, c = calcofi_data_r.Depthm, cmap = 'viridis' )\n",
    "plt.xlabel('T (Celsius)')\n",
    "plt.ylabel(' $O_2$ (mL/L)')\n",
    "plt.clim(0, 800)\n",
    "plt.colorbar(label = 'Depth (m)')\n",
    "plt.tight_layout()\n",
    "plt.savefig('OvsTdepthfine.png')\n",
    "plt.show()\n"
   ]
  },
  {
   "cell_type": "code",
   "execution_count": null,
   "metadata": {},
   "outputs": [],
   "source": [
    "calcofi_data_r = calcofi_data[calcofi_data['Depthm']<3000].sample(50000)\n",
    "x = calcofi_data_r['STheta']\n",
    "y = calcofi_data_r['O2ml_L'] \n",
    "\n",
    "plt.scatter(x, y, c = calcofi_data_r.Depthm, cmap = 'viridis' )\n",
    "plt.xlabel('$\\sigma_\\Theta$ ($kg/m^3$)')\n",
    "plt.ylabel(' $O_2$ (mL/L)')\n",
    "plt.clim(0, 3000)\n",
    "plt.colorbar(label = 'Depth (m)')\n",
    "plt.tight_layout()\n",
    "plt.savefig('OvsDensity.png')\n",
    "plt.show()"
   ]
  },
  {
   "cell_type": "code",
   "execution_count": null,
   "metadata": {},
   "outputs": [],
   "source": [
    "calcofi_data_r = calcofi_data[calcofi_data['Depthm']<800].sample(50000)\n",
    "x = calcofi_data_r['STheta']\n",
    "y = calcofi_data_r['O2ml_L'] \n",
    "\n",
    "plt.scatter(x, y, c = calcofi_data_r.Depthm, cmap = 'viridis' )\n",
    "plt.xlabel('$\\sigma_\\Theta$ ($kg/m^3$)')\n",
    "plt.ylabel(' $O_2$ (mL/L)')\n",
    "plt.clim(0, 800)\n",
    "plt.colorbar(label = 'Depth (m)')\n",
    "plt.tight_layout()\n",
    "plt.savefig('OvsDensityFine.png')\n",
    "plt.show()"
   ]
  },
  {
   "source": [
    "The takeaway here is that the dissolved oxygen level decreases linearly with increasing nutrient levels (phosphate/nitrates). It seems, in particular, that oxygen concentration keeps decreasing with increasing phosphate levels until it hits 0 and stays that way for further phosphate concentration increases.\n",
    "\n",
    "There is also clear indication of depth segmentation. There are three different regimes in the O2 vs T and O2 vs water density curves. A quick conditioning of the color bar on Depth reveals that these different regimes correspond to different depth ranges.\n",
    "\n",
    "Let's take a closer look at the low (< 1.4 ml/L) dissociated O2 levels. In EDA we cursorily saw that depth might be important here."
   ],
   "cell_type": "markdown",
   "metadata": {}
  },
  {
   "cell_type": "code",
   "execution_count": null,
   "metadata": {},
   "outputs": [],
   "source": [
    "lowO2df = calcofi_data[calcofi_data['O2ml_L'] < 1.4]"
   ]
  },
  {
   "cell_type": "code",
   "execution_count": null,
   "metadata": {},
   "outputs": [],
   "source": [
    "lowO2df.hist(column = 'Depthm', bins = 70)\n",
    "plt.xlim(0,1200)\n",
    "plt.title('Depth Count Frequency in Hypoxic Regime ')\n",
    "plt.xlabel('Ocean Depth (m)')\n",
    "plt.tight_layout()\n",
    "plt.ylabel('Count')\n",
    "plt.savefig('Hypoxiccountvsdepth.png')"
   ]
  },
  {
   "cell_type": "code",
   "execution_count": null,
   "metadata": {},
   "outputs": [],
   "source": [
    "sns.scatterplot(x = 'Depthm', y = 'O2ml_L', data = calcofi_data)\n",
    "plt.axhline(y = 1.4, c ='r')\n",
    "plt.axvline(x = 200, c = 'red')\n",
    "plt.axvline(x = 1000, c = 'red')\n",
    "plt.fill_between(x = [200,1000], y1 = [1.4,1.4], y2=[-0.1,-0.1], alpha =0.5 )\n",
    "plt.xlabel('Ocean Depth [m]')\n",
    "plt.ylabel('$O_2$ (mL/L)')\n",
    "plt.tight_layout()\n",
    "plt.savefig('scatterO2vsdepth.png')"
   ]
  },
  {
   "source": [
    "Both visualizations have some weaknesses: \n",
    "- The count frequency histogram is distorted by the fact that there are far less data points in the high depth regime. One good thing though is that it does call to attention the hypoxic regions in waters of depth < 200 m.\n",
    "\n",
    "- The scatter plot visually overrepresents data that is actually sparse. Most of the data is huddled in the 0-200m regime but thats not immediately obvious. \n",
    "\n",
    "#### One good thing though is that both visualizations point to a region of ~200-1000 m where the oxygen concentration finds its minimum and is the region in the entire water depth column where most of the hypoxic water is concentrated. \n",
    "\n",
    "We can get a corrected version of our depth count frequency by normalizing each bin in the hypoxic subset by the total number of points in the entire dataset in a given depth bin. This provides a measure of how hypoxic the water is in a given depth (tracing over all other variables).\n"
   ],
   "cell_type": "markdown",
   "metadata": {}
  },
  {
   "source": [
    "depthmin = 0\n",
    "depthmax = calcofi_data['Depthm'].max()\n",
    "ranges = list(range(depthmin,200, 20))\n",
    "mid_ranges = list(range(200,1000, 50))\n",
    "deep_ranges = list(range(1000,depthmax,400))\n",
    "\n"
   ],
   "cell_type": "code",
   "metadata": {},
   "execution_count": null,
   "outputs": []
  },
  {
   "cell_type": "code",
   "execution_count": null,
   "metadata": {},
   "outputs": [],
   "source": [
    "ranges.extend(mid_ranges)\n",
    "ranges.extend(deep_ranges)"
   ]
  },
  {
   "source": [
    "print(ranges)"
   ],
   "cell_type": "code",
   "metadata": {},
   "execution_count": null,
   "outputs": []
  },
  {
   "cell_type": "code",
   "execution_count": null,
   "metadata": {},
   "outputs": [],
   "source": []
  },
  {
   "cell_type": "code",
   "execution_count": null,
   "metadata": {},
   "outputs": [],
   "source": [
    "calcofi_data['DepthRange'] = pd.cut(calcofi_data['Depthm'], bins = ranges, include_lowest=True )\n",
    "totalcountsperbin = calcofi_data.groupby('DepthRange').count()['Depthm']\n",
    "lowO2df['DepthRange'] = pd.cut(lowO2df['Depthm'], bins = ranges, include_lowest=True )\n",
    "anoxiccountsperbin = lowO2df.groupby('DepthRange').count()['Depthm']\n"
   ]
  },
  {
   "cell_type": "code",
   "execution_count": null,
   "metadata": {},
   "outputs": [],
   "source": [
    "hypoxicityperbin = anoxiccountsperbin/totalcountsperbin # the values here are the ratio of hypoxic counts to total observations within a bin which I'll call the hypoxicity \n",
    "#let's use the bin start point for constructing a plot of hypoxicity vs. depth\n",
    "\n",
    "print(hypoxicityperbin.head(30))"
   ]
  },
  {
   "cell_type": "code",
   "execution_count": null,
   "metadata": {},
   "outputs": [],
   "source": [
    "plt.plot(ranges[:-1], hypoxicityperbin)\n",
    "plt.xlim(0,3000)\n",
    "plt.axvline(x = 200, c ='r')\n",
    "plt.axvline(x = 1000, c ='r')\n",
    "plt.title('$P_{hypox}$ vs. Depth')\n",
    "plt.ylabel('$n^{hyp}_{bin}/n^{tot}_{bin}$')\n",
    "plt.xlabel('Depth (m)')\n",
    "plt.minorticks_on()\n",
    "plt.tight_layout()\n",
    "plt.savefig('hypoxicityvsdepth.png')"
   ]
  },
  {
   "source": [
    "The turn on and roll off of our derived hypoxicity quantity is at 200 m and 1000 m respectively. The region from 200-1000m seems like a large hypoxic layer in the water column. As this data is essentially time averaged over 40 years this seems like it is a pretty persistent low oxygen layer in the ocean off the coast.\n",
    "\n",
    "The slow turn could be due to an actual static gradient in the hypoxicity, but its more likely a time averaging effect (fluctuation on the top depth of this zone in time)\n",
    "\n",
    "Undoubtedly, this is something that we could figure out systematically with this very dataset.\n",
    "\n",
    "Where are these mid-depth oxygen hypoxic zones located?\n"
   ],
   "cell_type": "markdown",
   "metadata": {}
  },
  {
   "source": [
    "middepthlowO2df = lowO2df[(lowO2df['Depthm'] > 200) & (lowO2df['Depthm'] < 1400)]"
   ],
   "cell_type": "code",
   "metadata": {},
   "execution_count": null,
   "outputs": []
  },
  {
   "cell_type": "code",
   "execution_count": null,
   "metadata": {},
   "outputs": [],
   "source": [
    "import plotly.express as px\n",
    "\n",
    "fig = px.scatter_mapbox(middepthlowO2df, lat = 'Lat_Dec', lon = 'Lon_Dec', color_discrete_sequence=[\"yellow\"], zoom=4, height=500)\n",
    "fig.update_layout(mapbox_style=\"open-street-map\")\n",
    "fig.update_layout(\n",
    "    mapbox_style=\"white-bg\",\n",
    "    mapbox_layers=[\n",
    "        {\n",
    "            \"below\": 'traces',\n",
    "            \"sourcetype\": \"raster\",\n",
    "            \"sourceattribution\": \"United States Geological Survey\",\n",
    "            \"source\": [\n",
    "                \"https://basemap.nationalmap.gov/arcgis/rest/services/USGSImageryOnly/MapServer/tile/{z}/{y}/{x}\"\n",
    "            ]\n",
    "        }\n",
    "      ])\n",
    "fig.update_layout(margin={\"r\":0,\"t\":0,\"l\":0,\"b\":0})\n",
    "fig.show()\n"
   ]
  },
  {
   "source": [
    "The majority of these stations are located off the coast of Southern California down into Baja California. An interesting point is that a majority of these points extend pretty far off coast and are in the open ocean (of course excluding the points inside the Gulf of California).\n",
    "\n",
    "Our analysis then shows that there is a layer of hypoxic water at intermediate depths that starts close to the coast and extends into the open ocean.\n",
    "\n",
    "Can we see any features in the data that tell us something about this depth zone and/or might be of interest in explaining the rapid decrease in O2 levels?\n"
   ],
   "cell_type": "markdown",
   "metadata": {}
  },
  {
   "cell_type": "code",
   "execution_count": null,
   "metadata": {},
   "outputs": [],
   "source": [
    "calcofi_data.columns"
   ]
  },
  {
   "cell_type": "code",
   "execution_count": null,
   "metadata": {},
   "outputs": [],
   "source": [
    "deep_cast_counts = calcofi_data[calcofi_data['Depthm'] > 1400].Cst_Cnt.unique()\n",
    "\n",
    "\n",
    "\n",
    "single_example_scan = calcofi_data[calcofi_data['Cst_Cnt'] == deep_cast_counts[36]]\n",
    "\n",
    "sns.lineplot(x = 'Depthm', y = 'O2ml_L', data = single_example_scan, color=\"g\")\n",
    "plt.xlabel('Ocean Depth (m)')\n",
    "plt.ylabel('$O_2$ (mL/L)', color = 'green')\n",
    "plt.tick_params(axis='y', colors='green')\n",
    "plt.minorticks_on()\n",
    "\n",
    "ax2 = plt.twinx()\n",
    "sns.lineplot(x = 'Depthm', y = 'STheta', data = single_example_scan, color=\"b\", ax=ax2)\n",
    "plt.ylabel('$\\sigma_{\\Theta}$ ($kg/m^3$)', color = 'blue')\n",
    "ax2.tick_params(axis='y', colors='blue')\n",
    "ax2.spines['right'].set_color('blue')\n",
    "ax2.spines['left'].set_color('green')\n",
    "\n",
    "plt.minorticks_on()\n",
    "\n",
    "plt.xlim(0,1500)\n",
    "plt.tight_layout()\n",
    "plt.savefig('O2sigmavsdepth.png')"
   ]
  },
  {
   "cell_type": "code",
   "execution_count": null,
   "metadata": {},
   "outputs": [],
   "source": [
    "\n",
    "sns.lineplot(x = 'Depthm', y = 'O2ml_L', data = single_example_scan, color=\"g\")\n",
    "plt.xlabel('Ocean Depth (m)')\n",
    "plt.ylabel('$O_2$ (mL/L)', color = 'green')\n",
    "plt.tick_params(axis='y', colors='green')\n",
    "plt.minorticks_on()\n",
    "\n",
    "ax2 = plt.twinx()\n",
    "sns.lineplot(x = 'Depthm', y = 'T_degC', data = single_example_scan, color=\"b\", ax=ax2)\n",
    "plt.ylabel('T (C)', color = 'blue')\n",
    "ax2.tick_params(axis='y', colors='blue')\n",
    "ax2.spines['right'].set_color('blue')\n",
    "ax2.spines['left'].set_color('green')\n",
    "\n",
    "plt.minorticks_on()\n",
    "\n",
    "plt.xlim(0,1500)\n",
    "plt.tight_layout()\n",
    "plt.savefig('O2Tvsdepth.png')"
   ]
  },
  {
   "cell_type": "code",
   "execution_count": null,
   "metadata": {},
   "outputs": [],
   "source": [
    "lowdepthlowO2df = lowO2df[(lowO2df['Depthm'] < 200)]"
   ]
  },
  {
   "source": [
    "Look for hypoxia at shallow depths and invesigate years in which they occurred"
   ],
   "cell_type": "markdown",
   "metadata": {}
  },
  {
   "cell_type": "code",
   "execution_count": null,
   "metadata": {},
   "outputs": [],
   "source": [
    "fig = px.scatter_mapbox(lowdepthlowO2df, lat = 'Lat_Dec', lon = 'Lon_Dec', color_discrete_sequence=[\"yellow\"],  zoom=4, height=500)\n",
    "fig.update_layout(mapbox_style=\"open-street-map\")\n",
    "fig.update_layout(\n",
    "    mapbox_style=\"white-bg\",\n",
    "    mapbox_layers=[\n",
    "        {\n",
    "            \"below\": 'traces',\n",
    "            \"sourcetype\": \"raster\",\n",
    "            \"sourceattribution\": \"United States Geological Survey\",\n",
    "            \"source\": [\n",
    "                \"https://basemap.nationalmap.gov/arcgis/rest/services/USGSImageryOnly/MapServer/tile/{z}/{y}/{x}\"\n",
    "            ]\n",
    "        }\n",
    "      ])\n",
    "fig.update_layout(margin={\"r\":0,\"t\":0,\"l\":0,\"b\":0})\n",
    "\n",
    "fig.show()"
   ]
  },
  {
   "cell_type": "code",
   "execution_count": null,
   "metadata": {},
   "outputs": [],
   "source": [
    "lowdepthhypox = pd.to_datetime(lowdepthlowO2df['DateTime']).dt.year\n",
    "lowdepthhypox[lowdepthhypox > 1980].hist(bins = 20)\n",
    "plt.title('Low Depth Hypoxia Events since 1980')\n",
    "plt.xlabel('Year')\n",
    "plt.ylabel('Count')\n",
    "plt.tight_layout()\n",
    "plt.savefig('lowdepthhypoxia.png')\n"
   ]
  }
 ]
}